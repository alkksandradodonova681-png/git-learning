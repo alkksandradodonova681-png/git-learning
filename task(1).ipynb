{
 "cells": [
  {
   "cell_type": "markdown",
   "id": "7ef12402",
   "metadata": {},
   "source": [
    "# Лабораторная работа 1. Введение в Python. Работа с памятью\n",
    "Выполнил: `Додонова Александра Алексеевна` группа `М80-116БВ-25`"
   ]
  },
  {
   "cell_type": "markdown",
   "id": "b2750564",
   "metadata": {},
   "source": [
    "## Функции ввода и вывода"
   ]
  },
  {
   "cell_type": "markdown",
   "id": "e8749d43",
   "metadata": {},
   "source": [
    "### ABACABA\n",
    "Функции `print` ниже содержат элементы. Нужно вывести их в формате, указанном в задании, но изменять количество функций и вложенные в них элементы нельзя. Первый и последний `print` в каждом задании нужны просто для удобного вывода результата, их трогать не нужно.\n",
    "\n",
    "1. `ABC`\n",
    "2. `AB C`\n",
    "3. `A`  \n",
    "`BC`\n",
    "4. `A`  \n",
    "`B`  \n",
    "`>C`\n",
    "5. `ABACABA`"
   ]
  },
  {
   "cell_type": "code",
   "execution_count": null,
   "id": "ce8d46d2",
   "metadata": {},
   "outputs": [],
   "source": [
    "# 1\n",
    "print(\"Задание 1:\")\n",
    "print(\"A\", \"B\", \"C\", sep=\"\", end=\"\\n\\n\")\n",
    "print()\n",
    "\n",
    "# 2\n",
    "print(\"Задание 2:\")\n",
    "print(\"A\", \"B\", sep=\"\", end=\" \")\n",
    "print(\"C\")\n",
    "print()\n",
    "\n",
    "# 3\n",
    "print(\"Задание 3:\")\n",
    "print(\"A\", \"B\", sep=\"\\n\", end=\"\")\n",
    "print(\"C\")\n",
    "print()\n",
    "\n",
    "# 4\n",
    "print(\"Задание 4:\")\n",
    "print(\"A\", \"B\", sep=\"\\n\", end=\"\\n>\")\n",
    "print(\"C\")\n",
    "print()\n",
    "\n",
    "# 5\n",
    "print(\"Задание 6:\")\n",
    "print(\"A\", end=\"BA\")\n",
    "print(\"C\", \"A\", sep=\"\", end=\"BA\")\n",
    "print()"
   ]
  },
  {
   "cell_type": "markdown",
   "id": "ea92aa0b",
   "metadata": {},
   "source": [
    "## Булевы значения"
   ]
  },
  {
   "cell_type": "markdown",
   "id": "2fdeda2f",
   "metadata": {},
   "source": [
    "### Исключающее ИЛИ\n",
    "Напишите программу, которая выводит исключающее или для двух переменных `a` и `b`. Использовать операторы `^` и `!=` нельзя.\n",
    "\n",
    "|a|b|a XOR b|\n",
    "|-|-|-|\n",
    "|0|0|0|\n",
    "|0|1|1|\n",
    "|1|0|1|\n",
    "|1|1|0|"
   ]
  },
  {
   "cell_type": "code",
   "execution_count": null,
   "id": "4ecc6e9f",
   "metadata": {},
   "outputs": [],
   "source": [
    "a = int(input())\n",
    "b = int(input())\n",
    "if a == b:\n",
    "    print(\"0\")\n",
    "else:\n",
    "    print(\"1\")"
   ]
  },
  {
   "cell_type": "markdown",
   "id": "10302178",
   "metadata": {},
   "source": [
    "## Строки"
   ]
  },
  {
   "cell_type": "markdown",
   "id": "c2c9d8aa",
   "metadata": {},
   "source": [
    "### Вдоль и поперек\n",
    "\n",
    "Дана строка: `zxcfckulrlly`\n",
    "Выведите, используя срезы:\n",
    "\n",
    "1. Первые 3 символа\n",
    "2. Последние 4 символа\n",
    "3. `lrl`\n",
    "4. Все символы на нечетных местах\n",
    "5. `luk`\n",
    "6. `lrucc`"
   ]
  },
  {
   "cell_type": "code",
   "execution_count": null,
   "id": "551c3474",
   "metadata": {},
   "outputs": [],
   "source": [
    "word = \"zxcfckulrlly\"\n",
    "print(word[0:3])\n",
    "print(word[8:12])\n",
    "print(word[7:10])\n",
    "print(word[0::2])\n",
    "print(word[-5:-8:-1])\n",
    "print(word[-2:-11:-2])"
   ]
  },
  {
   "cell_type": "markdown",
   "id": "eef9102d",
   "metadata": {},
   "source": [
    "### Пробелмные строки\n",
    "С клавиатуры вводится строка. Она содержит символы и произвольное количество пробелов в любом месте строки. Нужно преобразовать строку так, чтобы пробелы остались только там, где они на самом деле нужны — по одному между словами.\n",
    "Например:\n",
    "\n",
    "```\n",
    "hello     toooo  many spaces  \n",
    "```\n",
    "-> `hello toooo many spaces`\n",
    "\n",
    "```\n",
    "normal sentence\n",
    "```\n",
    " -> `normal sentence`\n",
    "\n",
    "Если введены одни пробелы, то нужно вывести пустую строку."
   ]
  },
  {
   "cell_type": "code",
   "execution_count": null,
   "id": "9fd174e5",
   "metadata": {},
   "outputs": [],
   "source": [
    "st_r = input()\n",
    "words = st_r.split()\n",
    "words1 = \" \".join(words)\n",
    "print(words1)\n"
   ]
  },
  {
   "cell_type": "markdown",
   "id": "cfb83b12",
   "metadata": {},
   "source": [
    "### Надежный пароль\n",
    "Напишите программу, которая валидирует пароль. Пароль считается надежным, если он:\n",
    "- от 8 до 20 символов\n",
    "- не состоит только из цифр\n",
    "- не содержит в себе пробелов\n",
    "- содержит символы только из набора латинских букв, цифр и специальных символов `!@#$%^&*()-=_+`\n",
    "- содержит минимум 3 заглавные буквы\n",
    "- содержит в себе минимум 2 специальных символа\n",
    "\n",
    "Программа должна принимать строку — пароль. Результатом является булево значение — надежность пароля."
   ]
  },
  {
   "cell_type": "code",
   "execution_count": null,
   "id": "9f8d4b2f",
   "metadata": {},
   "outputs": [],
   "source": [
    "pasword = str(input('Введите пароль: '))\n",
    "sim=len(pasword)\n",
    "numbers = 0\n",
    "capsalf = 0\n",
    "all = 0\n",
    "special_characters = 0\n",
    "for i in range (0,int(len(pasword))):\n",
    "    if pasword[i] in ('1234567890'):\n",
    "        numbers+=1\n",
    "    if pasword[i] in ('QWERTYUIOPASDFGHJKLZXCVBNM'):\n",
    "        capsalf += 1\n",
    "    if pasword[i] in ('1234567890qwertyuiopasdfghjklzxcvbnmQWERTYUIOPASDFGHJKLZXCVBNM!@#$%^&*()_+-='):\n",
    "        all += 1\n",
    "    if pasword[i] in ('!@#$%^&*()_+-='):\n",
    "        special_characters += 1\n",
    "if ((8<=len(pasword)<=20) and (pasword.count(' ')==0) and (numbers<int(len(pasword))) and (all>=3) and (all==(int(len(pasword)))) and (special_characters>=2))==True:\n",
    "    print('Пароль надёжный')\n",
    "else:\n",
    "    print('Пароль ненадёжный')"
   ]
  },
  {
   "cell_type": "markdown",
   "id": "a6f9cd74",
   "metadata": {},
   "source": [
    "## Объекты и ссылки"
   ]
  },
  {
   "cell_type": "markdown",
   "id": "3022311b",
   "metadata": {},
   "source": [
    "### Не баг, а фича\n",
    "\n",
    "Перед вами один из антипаттернов составления функций. На первый взгляд, все логично и должно работать: функция принимает значение и список, в конец которого нужно это значение добавить. Если список не передан, функция должна вернуть список из одного элемента. Но если мы вызовем ее снова, не передав список, то все сломается: мы получим совсем не то, что ожидали. Проанализируйте порядок выполнения функции и исправьте этот баг. Объясните, почему это происходит, и как ваше решение исправляет ошибку."
   ]
  },
  {
   "cell_type": "code",
   "execution_count": null,
   "id": "280f3599",
   "metadata": {},
   "outputs": [],
   "source": [
    "def custom_append(element, append_to=[]):\n",
    "    append_to.append(element)\n",
    "    return append_to\n",
    "\n",
    "\n",
    "print(custom_append(1, [1, 2]))     # -> [1, 2, 1]    ОК\n",
    "print(custom_append(1))             # -> [1]          ОК\n",
    "print(custom_append(1, [1, 2, 0]))  # -> [1, 2, 0, 1] ОК\n",
    "print(custom_append(2))             # -> [1, 2]       Не ОК"
   ]
  },
  {
   "cell_type": "markdown",
   "id": "e5c2aec5",
   "metadata": {},
   "source": [
    "Пояснение:"
   ]
  },
  {
   "cell_type": "markdown",
   "id": "a5845e3e",
   "metadata": {},
   "source": []
  },
  {
   "cell_type": "code",
   "execution_count": null,
   "id": "f9f95260",
   "metadata": {},
   "outputs": [],
   "source": [
    "#Исправление:\n",
    "def custom_append(element, append_to=[]):\n",
    "    append_to = append_to.copy()\n",
    "    append_to.append(element)\n",
    "    return append_to\n",
    "\n",
    "\n",
    "print(custom_append(1, [1, 2]))     # -> [1, 2, 1]    ОК\n",
    "print(custom_append(1))             # -> [1]          ОК\n",
    "print(custom_append(1, [1, 2, 0]))  # -> [1, 2, 0, 1] ОК\n",
    "print(custom_append(2))             # -> [2]       ОК\n",
    "\n",
    "\n",
    "#Обьяснение: Аргумент append_to — один и тот же список, который создаётся один раз . При вызове custom_append(1), функция использует этот один и тот же список по умолчанию.\n",
    "# При первой такой вставке туда добавляется 1, список становится [1]. При следующем вызове функция снова использует тот же самый список, который теперь уже [1], и добавляет туда 2, получается [1, 2].\n",
    "#Поэтому, в последнем вызове custom_append(2) мы получаем [1, 2], а не [2].\n",
    "#Исправить баг можно с помощью сору(). \n",
    "# copy() создаёт новый объект списка, скопировав содержимое. Теперь изменения происходят в новом списке, а не в том, что используется как значение по умолчанию.\n",
    "# Значение по умолчанию остаётся нетронутым и используется заново для каждого вызова."
   ]
  },
  {
   "cell_type": "markdown",
   "id": "c246d12f",
   "metadata": {},
   "source": [
    "### Переоптимизация\n",
    "\n",
    "Сколько объектов будет создано дополнительно в процессе выполнения этого кода и сколько из них останется в конце? Ответ поясните."
   ]
  },
  {
   "cell_type": "code",
   "execution_count": null,
   "id": "ac4e452e",
   "metadata": {},
   "outputs": [],
   "source": [
    "a = [65, 323, 3]\n",
    "b = [-1, -80, 234]\n",
    "c = [a, b, 34]\n",
    "\n",
    "del a\n",
    "del b\n",
    "del c[0]"
   ]
  },
  {
   "cell_type": "markdown",
   "id": "a87bb3d1",
   "metadata": {},
   "source": [
    "Пояснение:"
   ]
  },
  {
   "cell_type": "markdown",
   "id": "2f3b3aa8",
   "metadata": {},
   "source": []
  },
  {
   "cell_type": "code",
   "execution_count": null,
   "id": "6f3df8d0",
   "metadata": {},
   "outputs": [],
   "source": [
    "#Рассмотрим начальные объекты:\n",
    "a = [65, 323, 3]          # создается список а, который представляет собой 1 обьект;\n",
    "b = [-1, -80, 234]    # создается список b, который представляет собой 1 обьект;\n",
    "c = [a, b, 34]        # создается список c, который представляет собой 1 объект;\n",
    "#Следовательно, было создано 3 объектa. Рассмотрим удаление:\n",
    "del a                 # удаляет ссылку на список a, но не сам список;\n",
    "del b                 # удаляет ссылку на список b, но не сам список;\n",
    "del c[0]              # удаляет первый элемент списка c, то есть ссылку на список a. Таким образом список a будет удален.\n",
    "#Следовательно, в итоге будет удален только список a, значит всего в конце останется 2 обьекта\n"
   ]
  },
  {
   "cell_type": "markdown",
   "id": "e6af7fce",
   "metadata": {},
   "source": [
    "## Преобразование типов"
   ]
  },
  {
   "cell_type": "markdown",
   "id": "89890317",
   "metadata": {},
   "source": [
    "### Чужой среди своих\n",
    "\n",
    "Перед вами список строк из вещественных чисел. Преобразуйте его в следующие форматы:\n",
    "- `list[float]`\n",
    "- `list[int]`\n",
    "- `list[MyInt]`\n",
    "- `list[list[float, float]]`"
   ]
  },
  {
   "cell_type": "code",
   "execution_count": null,
   "id": "7be0f615",
   "metadata": {},
   "outputs": [],
   "source": [
    "class MyInt(int):\n",
    "    def __new__(cls, number=0):\n",
    "        if isinstance(number, str):\n",
    "            number = float(number)\n",
    "        return super().__new__(cls, int(number))\n",
    "\n",
    "    def __str__(self):\n",
    "        return super().__str__()\n",
    "\n",
    "\n",
    "random_numbers: list[float] = [\"9.11\", \"6.66\", \"3.1415926\", \"2.718281828459045\"]\n",
    "\n",
    "# Ваш код здесь\n",
    "\n",
    "\n",
    "float_list: list[float] = [float(n) for n in random_numbers]\n",
    "print(f\"list[float]: {float_list}\")\n",
    "\n",
    "\n",
    "int_list: list[int] = [int(float(n)) for n in random_numbers]\n",
    "print(f\"list[int]: {int_list}\")\n",
    "\n",
    "\n",
    "MyInt_list: list[MyInt] = [MyInt(n) for n in random_numbers]\n",
    "print(f\"list[MyInt]: {MyInt_list}\")\n",
    "\n",
    "\n",
    "two_float_list: list[list[float, float]] = [[float(n), float(n)] for n in random_numbers]\n",
    "print(f\"list[list[float, float]]: {two_float_list}\")"
   ]
  }
 ],
 "metadata": {
  "kernelspec": {
   "display_name": "lab1 (3.12.10)",
   "language": "python",
   "name": "python3"
  },
  "language_info": {
   "codemirror_mode": {
    "name": "ipython",
    "version": 3
   },
   "file_extension": ".py",
   "mimetype": "text/x-python",
   "name": "python",
   "nbconvert_exporter": "python",
   "pygments_lexer": "ipython3",
   "version": "3.12.10"
  }
 },
 "nbformat": 4,
 "nbformat_minor": 5
}
